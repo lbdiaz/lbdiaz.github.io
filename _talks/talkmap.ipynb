{
 "cells": [
  {
   "cell_type": "markdown",
   "metadata": {},
   "source": [
    "# Leaflet cluster map of talk locations\n",
    "\n",
    "Run this from the _talks/ directory, which contains .md files of all your talks. This scrapes the location YAML field from each .md file, geolocates it with geopy/Nominatim, and uses the getorg library to output data, HTML, and Javascript for a standalone cluster map."
   ]
  },
  {
   "cell_type": "code",
   "execution_count": 1,
   "metadata": {},
   "outputs": [
    {
     "name": "stdout",
     "output_type": "stream",
     "text": [
      "Collecting getorg\n",
      "  Downloading getorg-0.3.1-py2.py3-none-any.whl (39 kB)\n",
      "Collecting geopy\n",
      "  Downloading geopy-2.4.1-py3-none-any.whl (125 kB)\n",
      "\u001b[K     |████████████████████████████████| 125 kB 3.1 MB/s eta 0:00:01\n",
      "\u001b[?25hCollecting retrying\n",
      "  Downloading retrying-1.3.4-py3-none-any.whl (11 kB)\n",
      "Collecting pygithub\n",
      "  Downloading PyGithub-2.3.0-py3-none-any.whl (354 kB)\n",
      "\u001b[K     |████████████████████████████████| 354 kB 12.3 MB/s eta 0:00:01\n",
      "\u001b[?25hCollecting geographiclib<3,>=1.52\n",
      "  Downloading geographiclib-2.0-py3-none-any.whl (40 kB)\n",
      "\u001b[K     |████████████████████████████████| 40 kB 4.0 MB/s  eta 0:00:01\n",
      "\u001b[?25hRequirement already satisfied: urllib3>=1.26.0 in /home/ldiaz/anaconda3/lib/python3.8/site-packages (from pygithub->getorg) (1.26.4)\n",
      "Requirement already satisfied: requests>=2.14.0 in /home/ldiaz/anaconda3/lib/python3.8/site-packages (from pygithub->getorg) (2.25.1)\n",
      "Collecting pynacl>=1.4.0\n",
      "  Downloading PyNaCl-1.5.0-cp36-abi3-manylinux_2_17_x86_64.manylinux2014_x86_64.manylinux_2_24_x86_64.whl (856 kB)\n",
      "\u001b[K     |████████████████████████████████| 856 kB 25.4 MB/s eta 0:00:01\n",
      "\u001b[?25hCollecting pyjwt[crypto]>=2.4.0\n",
      "  Downloading PyJWT-2.9.0-py3-none-any.whl (22 kB)\n",
      "Collecting typing-extensions>=4.0.0\n",
      "  Downloading typing_extensions-4.12.2-py3-none-any.whl (37 kB)\n",
      "Collecting Deprecated\n",
      "  Downloading Deprecated-1.2.14-py2.py3-none-any.whl (9.6 kB)\n",
      "Requirement already satisfied: cryptography>=3.4.0 in /home/ldiaz/anaconda3/lib/python3.8/site-packages (from pyjwt[crypto]>=2.4.0->pygithub->getorg) (3.4.7)\n",
      "Requirement already satisfied: cffi>=1.12 in /home/ldiaz/anaconda3/lib/python3.8/site-packages (from cryptography>=3.4.0->pyjwt[crypto]>=2.4.0->pygithub->getorg) (1.14.5)\n",
      "Requirement already satisfied: pycparser in /home/ldiaz/anaconda3/lib/python3.8/site-packages (from cffi>=1.12->cryptography>=3.4.0->pyjwt[crypto]>=2.4.0->pygithub->getorg) (2.20)\n",
      "Requirement already satisfied: chardet<5,>=3.0.2 in /home/ldiaz/anaconda3/lib/python3.8/site-packages (from requests>=2.14.0->pygithub->getorg) (4.0.0)\n",
      "Requirement already satisfied: certifi>=2017.4.17 in /home/ldiaz/anaconda3/lib/python3.8/site-packages (from requests>=2.14.0->pygithub->getorg) (2020.12.5)\n",
      "Requirement already satisfied: idna<3,>=2.5 in /home/ldiaz/anaconda3/lib/python3.8/site-packages (from requests>=2.14.0->pygithub->getorg) (2.10)\n",
      "Requirement already satisfied: wrapt<2,>=1.10 in /home/ldiaz/anaconda3/lib/python3.8/site-packages (from Deprecated->pygithub->getorg) (1.12.1)\n",
      "Requirement already satisfied: six>=1.7.0 in /home/ldiaz/anaconda3/lib/python3.8/site-packages (from retrying->getorg) (1.15.0)\n",
      "Installing collected packages: pyjwt, typing-extensions, pynacl, geographiclib, Deprecated, retrying, pygithub, geopy, getorg\n",
      "  Attempting uninstall: typing-extensions\n",
      "    Found existing installation: typing-extensions 3.7.4.3\n",
      "    Uninstalling typing-extensions-3.7.4.3:\n",
      "      Successfully uninstalled typing-extensions-3.7.4.3\n",
      "Successfully installed Deprecated-1.2.14 geographiclib-2.0 geopy-2.4.1 getorg-0.3.1 pygithub-2.3.0 pyjwt-2.9.0 pynacl-1.5.0 retrying-1.3.4 typing-extensions-4.12.2\n",
      "Iywidgets and ipyleaflet support disabled. You must be in a Jupyter notebook to use this feature.\n",
      "Error raised:\n",
      "No module named 'ipyleaflet'\n",
      "Check that you have enabled ipyleaflet in Jupyter with:\n",
      "    jupyter nbextension enable --py ipyleaflet\n"
     ]
    }
   ],
   "source": [
    "!pip install getorg --upgrade\n",
    "import glob\n",
    "import getorg\n",
    "from geopy import Nominatim"
   ]
  },
  {
   "cell_type": "code",
   "execution_count": 2,
   "metadata": {},
   "outputs": [],
   "source": [
    "g = glob.glob(\"*.md\")"
   ]
  },
  {
   "cell_type": "code",
   "execution_count": 3,
   "metadata": {},
   "outputs": [],
   "source": [
    "geocoder = Nominatim(user_agent=\"MOsman\")\n",
    "location_dict = {}\n",
    "location = \"\"\n",
    "permalink = \"\"\n",
    "title = \"\""
   ]
  },
  {
   "cell_type": "code",
   "execution_count": 4,
   "metadata": {},
   "outputs": [
    {
     "name": "stdout",
     "output_type": "stream",
     "text": [
      "Virtual \n",
      " Virtual, Rua Coronel Oliveira, Centro, Andradas, Região Geográfica Imediata de Poços de Caldas, Região Geográfica Intermediária de Pouso Alegre, Minas Gerais, Região Sudeste, 37795-000, Brasil\n",
      "Rosario, Argentina \n",
      " Rosario, Municipio de Rosario, Gran Rosario, Departamento Rosario, Santa Fe, S2000, Argentina\n",
      "Exeter, Great Britain \n",
      " None\n",
      "Santiago, Chile \n",
      " Santiago, Provincia de Santiago, Región Metropolitana de Santiago, Chile\n",
      "Mar del Plata, Argentina \n",
      " Mar del Plata, Partido de General Pueyrredón, Buenos Aires, Argentina\n",
      "Virtual \n",
      " Virtual, Rua Coronel Oliveira, Centro, Andradas, Região Geográfica Imediata de Poços de Caldas, Região Geográfica Intermediária de Pouso Alegre, Minas Gerais, Região Sudeste, 37795-000, Brasil\n",
      "Virtual \n",
      " Virtual, Rua Coronel Oliveira, Centro, Andradas, Região Geográfica Imediata de Poços de Caldas, Região Geográfica Intermediária de Pouso Alegre, Minas Gerais, Região Sudeste, 37795-000, Brasil\n",
      "Buenos Aires, Argentina \n",
      " Buenos Aires, Comuna 6, Ciudad Autónoma de Buenos Aires, Argentina\n",
      "Virtual \n",
      " Virtual, Rua Coronel Oliveira, Centro, Andradas, Região Geográfica Imediata de Poços de Caldas, Região Geográfica Intermediária de Pouso Alegre, Minas Gerais, Região Sudeste, 37795-000, Brasil\n",
      "Virtual \n",
      " Virtual, Rua Coronel Oliveira, Centro, Andradas, Região Geográfica Imediata de Poços de Caldas, Região Geográfica Intermediária de Pouso Alegre, Minas Gerais, Região Sudeste, 37795-000, Brasil\n",
      "Virtual \n",
      " Virtual, Rua Coronel Oliveira, Centro, Andradas, Região Geográfica Imediata de Poços de Caldas, Região Geográfica Intermediária de Pouso Alegre, Minas Gerais, Região Sudeste, 37795-000, Brasil\n",
      "Buenos Aires, Argentina \n",
      " Buenos Aires, Comuna 6, Ciudad Autónoma de Buenos Aires, Argentina\n"
     ]
    }
   ],
   "source": [
    "\n",
    "for file in g:\n",
    "    with open(file, 'r') as f:\n",
    "        lines = f.read()\n",
    "        if lines.find('location: \"') > 1:\n",
    "            loc_start = lines.find('location: \"') + 11\n",
    "            lines_trim = lines[loc_start:]\n",
    "            loc_end = lines_trim.find('\"')\n",
    "            location = lines_trim[:loc_end]\n",
    "                            \n",
    "           \n",
    "        location_dict[location] = geocoder.geocode(location)\n",
    "        print(location, \"\\n\", location_dict[location])\n"
   ]
  },
  {
   "cell_type": "code",
   "execution_count": 5,
   "metadata": {},
   "outputs": [
    {
     "data": {
      "text/plain": [
       "'Written map to ../talkmap/'"
      ]
     },
     "execution_count": 5,
     "metadata": {},
     "output_type": "execute_result"
    }
   ],
   "source": [
    "m = getorg.orgmap.create_map_obj()\n",
    "getorg.orgmap.output_html_cluster_map(location_dict, folder_name=\"../talkmap\", hashed_usernames=False)"
   ]
  },
  {
   "cell_type": "code",
   "execution_count": null,
   "metadata": {},
   "outputs": [],
   "source": []
  }
 ],
 "metadata": {
  "anaconda-cloud": {},
  "kernelspec": {
   "display_name": "Python 3",
   "language": "python",
   "name": "python3"
  },
  "language_info": {
   "codemirror_mode": {
    "name": "ipython",
    "version": 3
   },
   "file_extension": ".py",
   "mimetype": "text/x-python",
   "name": "python",
   "nbconvert_exporter": "python",
   "pygments_lexer": "ipython3",
   "version": "3.8.8"
  }
 },
 "nbformat": 4,
 "nbformat_minor": 1
}
